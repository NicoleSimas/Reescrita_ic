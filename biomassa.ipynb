{
  "nbformat": 4,
  "nbformat_minor": 0,
  "metadata": {
    "colab": {
      "provenance": [],
      "authorship_tag": "ABX9TyMjzTlMtL2iXyuj5bAVk94y",
      "include_colab_link": true
    },
    "kernelspec": {
      "name": "python3",
      "display_name": "Python 3"
    },
    "language_info": {
      "name": "python"
    }
  },
  "cells": [
    {
      "cell_type": "markdown",
      "metadata": {
        "id": "view-in-github",
        "colab_type": "text"
      },
      "source": [
        "<a href=\"https://colab.research.google.com/github/NicoleSimas/Reescrita_ic/blob/main/biomassa.ipynb\" target=\"_parent\"><img src=\"https://colab.research.google.com/assets/colab-badge.svg\" alt=\"Open In Colab\"/></a>"
      ]
    },
    {
      "cell_type": "code",
      "source": [
        "import numpy as np\n",
        "import pandas as pd\n",
        "import matplotlib.pyplot as plt\n",
        "\n",
        "def gerar_biomassa(biomassa_base):\n",
        "    \"\"\"\n",
        "    Gera uma distribuição normal da biomassa disponível a partir de um valor médio.\n",
        "    \"\"\"\n",
        "    n_simul = 10001\n",
        "    BSdmin = biomassa_base * 0.8503\n",
        "    BSdmax = biomassa_base * 1.3066\n",
        "    amplitude = BSdmax - BSdmin\n",
        "    desvio_padrao = amplitude / 7\n",
        "    return np.random.randn(n_simul) * desvio_padrao + biomassa_base\n",
        "\n",
        "def plotar_histogramas(distribuicoes, regioes):\n",
        "    \"\"\"\n",
        "    Plota histogramas para todas as distribuições fornecidas.\n",
        "\n",
        "    Parâmetros:\n",
        "        distribuicoes (dict): {regiao: distribuição}\n",
        "        regioes (list): lista com nomes das regiões (na ordem desejada)\n",
        "    \"\"\"\n",
        "    plt.figure(figsize=(20, 11))\n",
        "\n",
        "    for i, regiao in enumerate(regioes, start=1):\n",
        "        if i == 9:\n",
        "            continue  # pula o subplot 9 (vazio)\n",
        "        posicao = i if i < 9 else i + 1\n",
        "        plt.subplot(3, 4, posicao)\n",
        "        plt.hist(distribuicoes[regiao], color='brown', bins=30)\n",
        "        plt.title(regiao)\n",
        "        plt.xlabel('Biomassa Disponível [ton/ano]')\n",
        "        plt.ylabel('Densidade')\n",
        "        plt.grid()\n",
        "\n",
        "    plt.subplots_adjust(left=0.25, bottom=0.1, right=0.9, top=0.9, wspace=0.50, hspace=0.35)\n",
        "    plt.show()\n",
        "\n",
        "# ---------- Execução principal ----------\n",
        "\n",
        "# Lê o CSV com colunas: sigla, regiao, biomassa\n",
        "df = pd.read_csv(\"biomassas.csv\")\n",
        "\n",
        "# Aplica a função gerar_biomassa para cada linha da coluna 'biomassa'\n",
        "df[\"distribuicao\"] = df[\"biomassa\"].apply(gerar_biomassa)\n",
        "\n",
        "# Cria um dicionário com a região como chave e a distribuição como valor\n",
        "distribuicoes = dict(zip(df[\"regiao\"], df[\"distribuicao\"]))\n",
        "\n",
        "# Cria a lista com o nome das regiões\n",
        "regioes = df[\"regiao\"].tolist()\n",
        "\n",
        "# Plotagem\n",
        "plotar_histogramas(distribuicoes, regioes)\n"
      ],
      "metadata": {
        "id": "z6Ane7y73I2n"
      },
      "execution_count": null,
      "outputs": []
    }
  ]
}